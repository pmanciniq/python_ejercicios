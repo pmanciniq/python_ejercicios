{
 "cells": [
  {
   "cell_type": "code",
   "execution_count": 2,
   "id": "38d48b31",
   "metadata": {},
   "outputs": [],
   "source": [
    "#Ejercicios:\n",
    "#1) importar numpy\n",
    "#2) crear array con la siguiente estructura\n",
    "\n",
    "# [[1,  6, 11],\n",
    "# [2,  7, 12],\n",
    "# [3,  8, 13],\n",
    "# [4,  9, 14],\n",
    "# [5, 10, 15]]\n",
    "#de nombre array\n",
    "\n",
    "#3) revisar forma del array\n",
    "#4) selecciona la segunda columna\n",
    "#5) crea un vector con los valores del 15 al 55, de nombre array2\n",
    "#6) asigna el valor 23 a la quinta posicion del array2\n",
    "#7) convierte el array2 al reves\n",
    "#8) crear matriz diagonal donde los elementos de la diagonal sean 5 primeros valores pares de array2, llamala matriz_diag pista:\n",
    "#usar np.diag\n",
    "#9) imprimir el numero de dimensiones de la matriz diagonal\n",
    "#10) crea matriz con numeros aleatorios de tamaño 5x3 de nombre matriz\n",
    "#11) multiplica matriz por matriz_diag"
   ]
  },
  {
   "cell_type": "code",
   "execution_count": 3,
   "id": "17ff87d4",
   "metadata": {},
   "outputs": [],
   "source": [
    "#1) importar numpy\n",
    "import numpy as np"
   ]
  },
  {
   "cell_type": "code",
   "execution_count": 4,
   "id": "95fee8a1",
   "metadata": {},
   "outputs": [
    {
     "data": {
      "text/plain": [
       "array([[ 1,  6, 11],\n",
       "       [ 2,  7, 12],\n",
       "       [ 3,  8, 13],\n",
       "       [ 4,  9, 14],\n",
       "       [ 5, 10, 15]])"
      ]
     },
     "execution_count": 4,
     "metadata": {},
     "output_type": "execute_result"
    }
   ],
   "source": [
    "#2) crear array con la siguiente estructura\n",
    "\n",
    "# [[1,  6, 11],\n",
    "# [2,  7, 12],\n",
    "# [3,  8, 13],\n",
    "# [4,  9, 14],\n",
    "# [5, 10, 15]]\n",
    "#de nombre array\n",
    "\n",
    "array = np.array([\n",
    "    [1,6,11],\n",
    "    [2,7,12],\n",
    "    [3,8,13],\n",
    "    [4,9,14],\n",
    "    [5,10,15]\n",
    "])\n",
    "array"
   ]
  },
  {
   "cell_type": "code",
   "execution_count": 5,
   "id": "0fbe763b",
   "metadata": {},
   "outputs": [
    {
     "data": {
      "text/plain": [
       "(5, 3)"
      ]
     },
     "execution_count": 5,
     "metadata": {},
     "output_type": "execute_result"
    }
   ],
   "source": [
    "#3) revisar la forma del array.\n",
    "array.shape"
   ]
  },
  {
   "cell_type": "code",
   "execution_count": 8,
   "id": "3ce08c96",
   "metadata": {},
   "outputs": [
    {
     "data": {
      "text/plain": [
       "array([ 6,  7,  8,  9, 10])"
      ]
     },
     "execution_count": 8,
     "metadata": {},
     "output_type": "execute_result"
    }
   ],
   "source": [
    "#4) seleccionar la segunda columna\n",
    "array[:,1]"
   ]
  },
  {
   "cell_type": "code",
   "execution_count": 14,
   "id": "1f07b3a0",
   "metadata": {},
   "outputs": [
    {
     "data": {
      "text/plain": [
       "array([15, 16, 17, 18, 19, 20, 21, 22, 23, 24, 25, 26, 27, 28, 29, 30, 31,\n",
       "       32, 33, 34, 35, 36, 37, 38, 39, 40, 41, 42, 43, 44, 45, 46, 47, 48,\n",
       "       49, 50, 51, 52, 53, 54, 55])"
      ]
     },
     "execution_count": 14,
     "metadata": {},
     "output_type": "execute_result"
    }
   ],
   "source": [
    "#5) crear un vector con los valores del 15 al 55 de nombre array2\n",
    "array2 = np.array(np.arange(15,56))\n",
    "array2"
   ]
  },
  {
   "cell_type": "code",
   "execution_count": 15,
   "id": "a043ef8f",
   "metadata": {},
   "outputs": [
    {
     "data": {
      "text/plain": [
       "array([15, 16, 17, 18, 23, 20, 21, 22, 23, 24, 25, 26, 27, 28, 29, 30, 31,\n",
       "       32, 33, 34, 35, 36, 37, 38, 39, 40, 41, 42, 43, 44, 45, 46, 47, 48,\n",
       "       49, 50, 51, 52, 53, 54, 55])"
      ]
     },
     "execution_count": 15,
     "metadata": {},
     "output_type": "execute_result"
    }
   ],
   "source": [
    "#6) asigna el valor 23 a la quinta posicion del array2\n",
    "array2[4] = 23\n",
    "array2"
   ]
  },
  {
   "cell_type": "code",
   "execution_count": 30,
   "id": "f9c6733f",
   "metadata": {},
   "outputs": [
    {
     "data": {
      "text/plain": [
       "array([55, 54, 53, 52, 51, 50, 49, 48, 47, 46, 45, 44, 43, 42, 41, 40, 39,\n",
       "       38, 37, 36, 35, 34, 33, 32, 31, 30, 29, 28, 27, 26, 25, 24, 23, 22,\n",
       "       21, 20, 23, 18, 17, 16, 15])"
      ]
     },
     "execution_count": 30,
     "metadata": {},
     "output_type": "execute_result"
    }
   ],
   "source": [
    "#7) convierte el array2 al reves\n",
    "array2[::-1]"
   ]
  },
  {
   "cell_type": "code",
   "execution_count": 47,
   "id": "d9cc11fc",
   "metadata": {},
   "outputs": [
    {
     "data": {
      "text/plain": [
       "array([[16,  0,  0,  0,  0],\n",
       "       [ 0, 18,  0,  0,  0],\n",
       "       [ 0,  0, 20,  0,  0],\n",
       "       [ 0,  0,  0, 22,  0],\n",
       "       [ 0,  0,  0,  0, 24]])"
      ]
     },
     "execution_count": 47,
     "metadata": {},
     "output_type": "execute_result"
    }
   ],
   "source": [
    "#8) crear matriz diagonal donde los elementos de la diagonal sean 5 primeros valores pares de array2, llamala matriz_diag pista:\n",
    "#usar np.diag\n",
    "\n",
    "np.diag(array2[1::2][:5])"
   ]
  },
  {
   "cell_type": "code",
   "execution_count": 48,
   "id": "9b2511ea",
   "metadata": {},
   "outputs": [
    {
     "data": {
      "text/plain": [
       "array([[16,  0,  0,  0,  0],\n",
       "       [ 0, 18,  0,  0,  0],\n",
       "       [ 0,  0, 20,  0,  0],\n",
       "       [ 0,  0,  0, 22,  0],\n",
       "       [ 0,  0,  0,  0, 24]])"
      ]
     },
     "execution_count": 48,
     "metadata": {},
     "output_type": "execute_result"
    }
   ],
   "source": [
    "matriz_diag = np.diag(array2[1::2][:5])\n",
    "matriz_diag"
   ]
  },
  {
   "cell_type": "code",
   "execution_count": 50,
   "id": "f7e2c3b0",
   "metadata": {},
   "outputs": [
    {
     "data": {
      "text/plain": [
       "2"
      ]
     },
     "execution_count": 50,
     "metadata": {},
     "output_type": "execute_result"
    }
   ],
   "source": [
    "#9) imprimir numero de dimensiones de la matriz diagonal\n",
    "matriz_diag.ndim"
   ]
  },
  {
   "cell_type": "code",
   "execution_count": 51,
   "id": "a012116a",
   "metadata": {},
   "outputs": [
    {
     "data": {
      "text/plain": [
       "array([[0.44160927, 0.54828039, 0.97809367],\n",
       "       [0.59312292, 0.05941313, 0.02098319],\n",
       "       [0.47629322, 0.11371056, 0.72687696],\n",
       "       [0.42027205, 0.55459807, 0.04582146],\n",
       "       [0.31271207, 0.05572741, 0.86900013]])"
      ]
     },
     "execution_count": 51,
     "metadata": {},
     "output_type": "execute_result"
    }
   ],
   "source": [
    "#10) crea matriz con numeros aleatorios de tamaño 5x3 de nombre matriz\n",
    "\n",
    "matriz = np.random.rand(5,3)\n",
    "matriz"
   ]
  },
  {
   "cell_type": "code",
   "execution_count": 53,
   "id": "5508a8ea",
   "metadata": {},
   "outputs": [
    {
     "ename": "ValueError",
     "evalue": "shapes (5,3) and (5,5) not aligned: 3 (dim 1) != 5 (dim 0)",
     "output_type": "error",
     "traceback": [
      "\u001b[1;31m---------------------------------------------------------------------------\u001b[0m",
      "\u001b[1;31mValueError\u001b[0m                                Traceback (most recent call last)",
      "\u001b[1;32m<ipython-input-53-4da0292e08de>\u001b[0m in \u001b[0;36m<module>\u001b[1;34m\u001b[0m\n\u001b[0;32m      1\u001b[0m \u001b[1;31m#11) multiplica matriz por matriz_diag\u001b[0m\u001b[1;33m\u001b[0m\u001b[1;33m\u001b[0m\u001b[1;33m\u001b[0m\u001b[0m\n\u001b[1;32m----> 2\u001b[1;33m \u001b[0mmatriz\u001b[0m\u001b[1;33m.\u001b[0m\u001b[0mdot\u001b[0m\u001b[1;33m(\u001b[0m\u001b[0mmatriz_diag\u001b[0m\u001b[1;33m)\u001b[0m\u001b[1;33m\u001b[0m\u001b[1;33m\u001b[0m\u001b[0m\n\u001b[0m",
      "\u001b[1;31mValueError\u001b[0m: shapes (5,3) and (5,5) not aligned: 3 (dim 1) != 5 (dim 0)"
     ]
    }
   ],
   "source": [
    "#11) multiplica matriz por matriz_diag\n",
    "matriz.dot(matriz_diag)"
   ]
  },
  {
   "cell_type": "code",
   "execution_count": 54,
   "id": "bb9da11b",
   "metadata": {},
   "outputs": [
    {
     "data": {
      "text/plain": [
       "(3, 5)"
      ]
     },
     "execution_count": 54,
     "metadata": {},
     "output_type": "execute_result"
    }
   ],
   "source": [
    "#para resolver lo anterior con \"Transponer\"\n",
    "matriz.T.shape"
   ]
  },
  {
   "cell_type": "code",
   "execution_count": 55,
   "id": "05c45f31",
   "metadata": {},
   "outputs": [
    {
     "data": {
      "text/plain": [
       "array([[ 7.06574836, 10.67621248,  9.52586433,  9.24598503,  7.50508961],\n",
       "       [ 8.77248625,  1.0694363 ,  2.27421116, 12.20115745,  1.33745786],\n",
       "       [15.64949876,  0.37769743, 14.53753916,  1.00807215, 20.85600321]])"
      ]
     },
     "execution_count": 55,
     "metadata": {},
     "output_type": "execute_result"
    }
   ],
   "source": [
    "matriz.T @ matriz_diag"
   ]
  },
  {
   "cell_type": "code",
   "execution_count": null,
   "id": "abc0c3c8",
   "metadata": {},
   "outputs": [],
   "source": []
  }
 ],
 "metadata": {
  "kernelspec": {
   "display_name": "Python 3",
   "language": "python",
   "name": "python3"
  },
  "language_info": {
   "codemirror_mode": {
    "name": "ipython",
    "version": 3
   },
   "file_extension": ".py",
   "mimetype": "text/x-python",
   "name": "python",
   "nbconvert_exporter": "python",
   "pygments_lexer": "ipython3",
   "version": "3.8.11"
  }
 },
 "nbformat": 4,
 "nbformat_minor": 5
}
