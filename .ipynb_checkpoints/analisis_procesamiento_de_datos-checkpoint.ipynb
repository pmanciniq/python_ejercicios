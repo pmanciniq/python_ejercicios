{
 "cells": [
  {
   "cell_type": "code",
   "execution_count": 2,
   "id": "8cdd6c68",
   "metadata": {},
   "outputs": [],
   "source": [
    "import numpy as np\n",
    "import pandas as pd\n",
    "import scipy.stats as stats"
   ]
  },
  {
   "cell_type": "code",
   "execution_count": 3,
   "id": "636498f5",
   "metadata": {},
   "outputs": [],
   "source": [
    "#creamos array\n",
    "pesos = [100, 150, 150, 200, 250, 300, 325, 400,415, 500, 600, 1000]"
   ]
  },
  {
   "cell_type": "code",
   "execution_count": 7,
   "id": "4c87e641",
   "metadata": {},
   "outputs": [
    {
     "data": {
      "text/plain": [
       "365.8333333333333"
      ]
     },
     "execution_count": 7,
     "metadata": {},
     "output_type": "execute_result"
    }
   ],
   "source": [
    "#calcular media aritmetica (promedio)\n",
    "media_pesos = np.mean(pesos)\n",
    "media_pesos"
   ]
  },
  {
   "cell_type": "code",
   "execution_count": 4,
   "id": "18648d86",
   "metadata": {},
   "outputs": [
    {
     "data": {
      "text/plain": [
       "312.5"
      ]
     },
     "execution_count": 4,
     "metadata": {},
     "output_type": "execute_result"
    }
   ],
   "source": [
    "#calcular mediana\n",
    "mediana_pesos = np.median(pesos)\n",
    "mediana_pesos"
   ]
  },
  {
   "cell_type": "code",
   "execution_count": 5,
   "id": "1bfb0077",
   "metadata": {},
   "outputs": [
    {
     "data": {
      "text/plain": [
       "ModeResult(mode=array([150]), count=array([2]))"
      ]
     },
     "execution_count": 5,
     "metadata": {},
     "output_type": "execute_result"
    }
   ],
   "source": [
    "#calcular moda, esta funcion no esta en numpy, asi que se usa stats\n",
    "\n",
    "moda_pesos = stats.mode(pesos)\n",
    "moda_pesos\n"
   ]
  },
  {
   "cell_type": "code",
   "execution_count": 6,
   "id": "4a0e1bc6",
   "metadata": {},
   "outputs": [
    {
     "data": {
      "text/plain": [
       "900"
      ]
     },
     "execution_count": 6,
     "metadata": {},
     "output_type": "execute_result"
    }
   ],
   "source": [
    "#Rango es la diferencia entre valores maximos y minimos\n",
    "rango_pesos = np.max(pesos) - np.min(pesos)\n",
    "rango_pesos"
   ]
  },
  {
   "cell_type": "code",
   "execution_count": 10,
   "id": "78154cc2",
   "metadata": {},
   "outputs": [
    {
     "data": {
      "text/plain": [
       "IntervalIndex([(99.999, 187.5], (187.5, 312.5], (312.5, 436.25], (436.25, 1000.0]],\n",
       "              closed='right',\n",
       "              dtype='interval[float64]')"
      ]
     },
     "execution_count": 10,
     "metadata": {},
     "output_type": "execute_result"
    }
   ],
   "source": [
    "#Cuartiles y IQR, es el rango pero por cuartiles\n",
    "\n",
    "#mostrar cuantiles\n",
    "stats.mstats.mquantiles(pesos)\n",
    "\n",
    "#si queremos ver CuaRtiles (4 grupos) podemos usar la funcion qcut\n",
    "cuartiles_pesos = pd.qcut(pesos, 4)\n",
    "cuartiles_pesos.categories"
   ]
  },
  {
   "cell_type": "code",
   "execution_count": 11,
   "id": "6034bf5f",
   "metadata": {},
   "outputs": [
    {
     "name": "stderr",
     "output_type": "stream",
     "text": [
      "warning: LF will be replaced by CRLF in .ipynb_checkpoints/ejercicios_pandas_2-checkpoint.ipynb.\n",
      "The file will have its original line endings in your working directory\n",
      "warning: LF will be replaced by CRLF in ejercicios_pandas_2.ipynb.\n",
      "The file will have its original line endings in your working directory\n",
      "warning: LF will be replaced by CRLF in .ipynb_checkpoints/analisis_procesamiento_de_datos-checkpoint.ipynb.\n",
      "The file will have its original line endings in your working directory\n",
      "warning: LF will be replaced by CRLF in analisis_procesamiento_de_datos.ipynb.\n",
      "The file will have its original line endings in your working directory\n"
     ]
    }
   ],
   "source": [
    "!git add *"
   ]
  },
  {
   "cell_type": "code",
   "execution_count": 12,
   "id": "e5a35e9f",
   "metadata": {},
   "outputs": [
    {
     "name": "stdout",
     "output_type": "stream",
     "text": [
      "[main d071e7c] actualizando avances del curso\n",
      " 4 files changed, 752 insertions(+), 607 deletions(-)\n",
      " create mode 100644 .ipynb_checkpoints/analisis_procesamiento_de_datos-checkpoint.ipynb\n",
      " create mode 100644 analisis_procesamiento_de_datos.ipynb\n"
     ]
    }
   ],
   "source": [
    "!git commit -m \"actualizando avances del curso\""
   ]
  },
  {
   "cell_type": "code",
   "execution_count": 13,
   "id": "794f724c",
   "metadata": {},
   "outputs": [
    {
     "name": "stderr",
     "output_type": "stream",
     "text": [
      "To https://github.com/pmanciniq/python_ejercicios.git\n",
      "   1a83e25..d071e7c  main -> main\n"
     ]
    }
   ],
   "source": [
    "!git push"
   ]
  },
  {
   "cell_type": "code",
   "execution_count": 6,
   "id": "f1adaffe",
   "metadata": {},
   "outputs": [
    {
     "data": {
      "text/plain": [
       "239.6771555423856"
      ]
     },
     "execution_count": 6,
     "metadata": {},
     "output_type": "execute_result"
    }
   ],
   "source": [
    "#retomamos ultima clase estadisticos descriptivos\n",
    "\n",
    "#desviación standard\n",
    "pesos_std = np.std(pesos)\n",
    "pesos_std"
   ]
  },
  {
   "cell_type": "code",
   "execution_count": 13,
   "id": "61ec364e",
   "metadata": {},
   "outputs": [
    {
     "data": {
      "text/plain": [
       "1.3623858394083481"
      ]
     },
     "execution_count": 13,
     "metadata": {},
     "output_type": "execute_result"
    }
   ],
   "source": [
    "#coeficiente de simetría\n",
    "#se define como el tercer momento dividido por la desviacion estandard al cubo\n",
    "\n",
    "    #elevamos al cubo\n",
    "pow3 = lambda x: x*x*x\n",
    "    #calculamos tercer momento\n",
    "tercer_momento = lambda x: pow3(x-media_pesos)\n",
    "    #calculamos simetria\n",
    "simetria_pesos = sum(map(tercer_momento, pesos)) / (12*pow3(pesos_std))\n",
    "#simetria_pesos\n",
    "\n",
    "#otra forma de calcular el coeficiente de simetria es con scipy skew\n",
    "pesos_simetria = stats.skew(pesos)\n",
    "pesos_simetria"
   ]
  },
  {
   "cell_type": "code",
   "execution_count": 18,
   "id": "68a7993b",
   "metadata": {},
   "outputs": [
    {
     "data": {
      "text/plain": [
       "1.4285722765161841"
      ]
     },
     "execution_count": 18,
     "metadata": {},
     "output_type": "execute_result"
    }
   ],
   "source": [
    "#coeficiente curtosis, se define como el cuarto momento dividido por la desviacion estandar\n",
    "#a la cuarta\n",
    "\n",
    "    #elevamos a la cuarta\n",
    "pow4 = lambda x: x*x*x*x\n",
    "    #calculamos cuarto momento\n",
    "cuarto_momento = lambda x: pow4(x-media_pesos)\n",
    "    #calculamos simetria\n",
    "curtosis_pesos = sum(map(cuarto_momento, pesos)) / (12*pow4(pesos_std))\n",
    "#curtosis_pesos\n",
    "\n",
    "#también se puede calcular con stats curtosis\n",
    "pesos_curtosis = stats.kurtosis(pesos)\n",
    "pesos_curtosis"
   ]
  },
  {
   "cell_type": "code",
   "execution_count": 19,
   "id": "a58078be",
   "metadata": {},
   "outputs": [],
   "source": [
    "#termino de la clase"
   ]
  },
  {
   "cell_type": "code",
   "execution_count": 20,
   "id": "9694589d",
   "metadata": {},
   "outputs": [
    {
     "name": "stderr",
     "output_type": "stream",
     "text": [
      "warning: LF will be replaced by CRLF in .ipynb_checkpoints/analisis_procesamiento_de_datos-checkpoint.ipynb.\n",
      "The file will have its original line endings in your working directory\n",
      "warning: LF will be replaced by CRLF in analisis_procesamiento_de_datos.ipynb.\n",
      "The file will have its original line endings in your working directory\n"
     ]
    }
   ],
   "source": [
    "!git add *\n",
    "#actualizamos repo"
   ]
  },
  {
   "cell_type": "code",
   "execution_count": 21,
   "id": "62546d31",
   "metadata": {},
   "outputs": [
    {
     "name": "stdout",
     "output_type": "stream",
     "text": [
      "[main 089baba] actualizando repo clase estadisticos descriptivos\n",
      " 2 files changed, 243 insertions(+), 7 deletions(-)\n"
     ]
    }
   ],
   "source": [
    "!git commit -m \"actualizando repo clase estadisticos descriptivos\""
   ]
  },
  {
   "cell_type": "code",
   "execution_count": 22,
   "id": "0f6719ed",
   "metadata": {},
   "outputs": [
    {
     "name": "stderr",
     "output_type": "stream",
     "text": [
      "To https://github.com/pmanciniq/python_ejercicios.git\n",
      "   d071e7c..089baba  main -> main\n"
     ]
    }
   ],
   "source": [
    "!git push"
   ]
  },
  {
   "cell_type": "code",
   "execution_count": null,
   "id": "4c5567a6",
   "metadata": {},
   "outputs": [],
   "source": []
  }
 ],
 "metadata": {
  "kernelspec": {
   "display_name": "Python 3",
   "language": "python",
   "name": "python3"
  },
  "language_info": {
   "codemirror_mode": {
    "name": "ipython",
    "version": 3
   },
   "file_extension": ".py",
   "mimetype": "text/x-python",
   "name": "python",
   "nbconvert_exporter": "python",
   "pygments_lexer": "ipython3",
   "version": "3.8.8"
  }
 },
 "nbformat": 4,
 "nbformat_minor": 5
}
