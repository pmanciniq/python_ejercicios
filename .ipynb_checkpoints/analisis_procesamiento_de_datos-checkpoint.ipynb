{
 "cells": [
  {
   "cell_type": "code",
   "execution_count": 1,
   "id": "8cdd6c68",
   "metadata": {},
   "outputs": [],
   "source": [
    "import numpy as np\n",
    "import pandas as pd\n",
    "import scipy.stats as stats"
   ]
  },
  {
   "cell_type": "code",
   "execution_count": 2,
   "id": "636498f5",
   "metadata": {},
   "outputs": [],
   "source": [
    "#creamos array\n",
    "pesos = [100, 150, 150, 200, 250, 300, 325, 400,415, 500, 600, 1000]"
   ]
  },
  {
   "cell_type": "code",
   "execution_count": 3,
   "id": "4c87e641",
   "metadata": {},
   "outputs": [
    {
     "data": {
      "text/plain": [
       "365.8333333333333"
      ]
     },
     "execution_count": 3,
     "metadata": {},
     "output_type": "execute_result"
    }
   ],
   "source": [
    "#calcular media aritmetica (promedio)\n",
    "media_pesos = np.mean(pesos)\n",
    "media_pesos"
   ]
  },
  {
   "cell_type": "code",
   "execution_count": 4,
   "id": "18648d86",
   "metadata": {},
   "outputs": [
    {
     "data": {
      "text/plain": [
       "312.5"
      ]
     },
     "execution_count": 4,
     "metadata": {},
     "output_type": "execute_result"
    }
   ],
   "source": [
    "#calcular mediana\n",
    "mediana_pesos = np.median(pesos)\n",
    "mediana_pesos"
   ]
  },
  {
   "cell_type": "code",
   "execution_count": 5,
   "id": "1bfb0077",
   "metadata": {},
   "outputs": [
    {
     "data": {
      "text/plain": [
       "ModeResult(mode=array([150]), count=array([2]))"
      ]
     },
     "execution_count": 5,
     "metadata": {},
     "output_type": "execute_result"
    }
   ],
   "source": [
    "#calcular moda, esta funcion no esta en numpy, asi que se usa stats\n",
    "\n",
    "moda_pesos = stats.mode(pesos)\n",
    "moda_pesos\n"
   ]
  },
  {
   "cell_type": "code",
   "execution_count": 6,
   "id": "4a0e1bc6",
   "metadata": {},
   "outputs": [
    {
     "data": {
      "text/plain": [
       "900"
      ]
     },
     "execution_count": 6,
     "metadata": {},
     "output_type": "execute_result"
    }
   ],
   "source": [
    "#Rango es la diferencia entre valores maximos y minimos\n",
    "rango_pesos = np.max(pesos) - np.min(pesos)\n",
    "rango_pesos"
   ]
  },
  {
   "cell_type": "code",
   "execution_count": 10,
   "id": "78154cc2",
   "metadata": {},
   "outputs": [
    {
     "data": {
      "text/plain": [
       "IntervalIndex([(99.999, 187.5], (187.5, 312.5], (312.5, 436.25], (436.25, 1000.0]],\n",
       "              closed='right',\n",
       "              dtype='interval[float64]')"
      ]
     },
     "execution_count": 10,
     "metadata": {},
     "output_type": "execute_result"
    }
   ],
   "source": [
    "#Cuartiles y IQR, es el rango pero por cuartiles\n",
    "\n",
    "#mostrar cuantiles\n",
    "stats.mstats.mquantiles(pesos)\n",
    "\n",
    "#si queremos ver CuaRtiles (4 grupos) podemos usar la funcion qcut\n",
    "cuartiles_pesos = pd.qcut(pesos, 4)\n",
    "cuartiles_pesos.categories"
   ]
  },
  {
   "cell_type": "code",
   "execution_count": 11,
   "id": "6034bf5f",
   "metadata": {},
   "outputs": [
    {
     "name": "stderr",
     "output_type": "stream",
     "text": [
      "warning: LF will be replaced by CRLF in .ipynb_checkpoints/ejercicios_pandas_2-checkpoint.ipynb.\n",
      "The file will have its original line endings in your working directory\n",
      "warning: LF will be replaced by CRLF in ejercicios_pandas_2.ipynb.\n",
      "The file will have its original line endings in your working directory\n",
      "warning: LF will be replaced by CRLF in .ipynb_checkpoints/analisis_procesamiento_de_datos-checkpoint.ipynb.\n",
      "The file will have its original line endings in your working directory\n",
      "warning: LF will be replaced by CRLF in analisis_procesamiento_de_datos.ipynb.\n",
      "The file will have its original line endings in your working directory\n"
     ]
    }
   ],
   "source": [
    "!git add *"
   ]
  },
  {
   "cell_type": "code",
   "execution_count": 12,
   "id": "e5a35e9f",
   "metadata": {},
   "outputs": [
    {
     "name": "stdout",
     "output_type": "stream",
     "text": [
      "[main d071e7c] actualizando avances del curso\n",
      " 4 files changed, 752 insertions(+), 607 deletions(-)\n",
      " create mode 100644 .ipynb_checkpoints/analisis_procesamiento_de_datos-checkpoint.ipynb\n",
      " create mode 100644 analisis_procesamiento_de_datos.ipynb\n"
     ]
    }
   ],
   "source": [
    "!git commit -m \"actualizando avances del curso\""
   ]
  },
  {
   "cell_type": "code",
   "execution_count": 13,
   "id": "794f724c",
   "metadata": {},
   "outputs": [
    {
     "name": "stderr",
     "output_type": "stream",
     "text": [
      "To https://github.com/pmanciniq/python_ejercicios.git\n",
      "   1a83e25..d071e7c  main -> main\n"
     ]
    }
   ],
   "source": [
    "!git push"
   ]
  },
  {
   "cell_type": "code",
   "execution_count": null,
   "id": "f1adaffe",
   "metadata": {},
   "outputs": [],
   "source": []
  }
 ],
 "metadata": {
  "kernelspec": {
   "display_name": "Python 3",
   "language": "python",
   "name": "python3"
  },
  "language_info": {
   "codemirror_mode": {
    "name": "ipython",
    "version": 3
   },
   "file_extension": ".py",
   "mimetype": "text/x-python",
   "name": "python",
   "nbconvert_exporter": "python",
   "pygments_lexer": "ipython3",
   "version": "3.8.8"
  }
 },
 "nbformat": 4,
 "nbformat_minor": 5
}
